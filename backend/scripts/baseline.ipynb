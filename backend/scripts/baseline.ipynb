{
 "cells": [
  {
   "cell_type": "code",
   "execution_count": 73,
   "id": "335a9a26",
   "metadata": {},
   "outputs": [
    {
     "name": "stdout",
     "output_type": "stream",
     "text": [
      "393\n",
      "524\n",
      "accuracy is 75.00%\n",
      "correct                         Application Status   True  False  accuracy\n",
      "0                     Action required from company    5.0   25.0  0.166667\n",
      "1                         Application confirmation  156.0   10.0  0.939759\n",
      "2                                  Assessment sent    8.0    1.0  0.888889\n",
      "3                             Availability request   21.0   55.0  0.276316\n",
      "4                  Did not apply - inbound request    9.0    0.0  1.000000\n",
      "5        False positive, not related to job search    0.0   21.0  0.000000\n",
      "6                       Hiring freeze notification    1.0    0.0  1.000000\n",
      "7                              Information request    5.0   16.0  0.238095\n",
      "8                             Interview invitation  120.0    3.0  0.975610\n",
      "9                                       Offer made    1.0    0.0  1.000000\n",
      "10                                       Rejection   65.0    0.0  1.000000\n",
      "11                            Withdrew application    2.0    0.0  1.000000\n"
     ]
    }
   ],
   "source": [
    "import pandas as pd\n",
    "import os\n",
    "\n",
    "repo_path = f\"\"\"{os.getcwd().split(\"jobseeker-analytics\")[0]}jobseeker-analytics\"\"\"\n",
    "labeled_df = pd.read_json(f\"{repo_path}/backend/training_data.json\", convert_dates=False)[[\"id\", \"application_status\"]]\n",
    "gemini_df = pd.read_csv(f\"{repo_path}/backend/data_gemini_llm.csv\", header=0)[[\"Message ID\", \"Application Status\"]]\n",
    "\n",
    "accuracy_df = labeled_df.merge(gemini_df, left_on=\"id\", right_on=\"Message ID\", how=\"inner\")\n",
    "unique_message_ids = accuracy_df.nunique().id\n",
    "unique_gemini_ids = gemini_df.nunique()[\"Message ID\"]\n",
    "unique_labeled_ids = labeled_df.nunique().id\n",
    "\n",
    "accuracy_df[\"correct\"] = accuracy_df[\"application_status\"] == accuracy_df[\"Application Status\"]\n",
    "accuracy_counts = accuracy_df[\"correct\"].value_counts().reset_index()\n",
    "correct_counts = accuracy_df[\"correct\"].value_counts().reset_index().loc[0, \"count\"]\n",
    "print(correct_counts)\n",
    "total_counts = accuracy_df.shape[0]\n",
    "print(total_counts)\n",
    "print(f\"accuracy is {correct_counts / total_counts * 100:.2f}%\")\n",
    "\n",
    "# accuracy within each category\n",
    "accuracy_by_category = accuracy_df.groupby(\"application_status\")[\"correct\"].value_counts().unstack().fillna(0)\n",
    "accuracy_by_category[\"accuracy\"] = accuracy_by_category[True] / (accuracy_by_category[True] + accuracy_by_category[False])\n",
    "accuracy_by_category = accuracy_by_category.reset_index()\n",
    "accuracy_by_category = accuracy_by_category.rename(columns={\"application_status\": \"Application Status\"})\n",
    "accuracy_by_category = accuracy_by_category[[\"Application Status\", True, False, \"accuracy\"]]\n",
    "print(accuracy_by_category)"
   ]
  },
  {
   "cell_type": "code",
   "execution_count": null,
   "id": "ec918da3",
   "metadata": {},
   "outputs": [],
   "source": []
  }
 ],
 "metadata": {
  "kernelspec": {
   "display_name": "venv",
   "language": "python",
   "name": "python3"
  },
  "language_info": {
   "codemirror_mode": {
    "name": "ipython",
    "version": 3
   },
   "file_extension": ".py",
   "mimetype": "text/x-python",
   "name": "python",
   "nbconvert_exporter": "python",
   "pygments_lexer": "ipython3",
   "version": "3.11.11"
  }
 },
 "nbformat": 4,
 "nbformat_minor": 5
}
